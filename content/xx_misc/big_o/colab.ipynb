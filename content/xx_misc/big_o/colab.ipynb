{
 "cells": [
  {
   "cell_type": "markdown",
   "metadata": {
    "colab_type": "text",
    "id": "view-in-github"
   },
   "source": [
    "<a href=\"https://colab.research.google.com/github/google/applied-machine-learning-intensive/blob/master/content/xx_misc/big_o/colab.ipynb\" target=\"_parent\"><img src=\"https://colab.research.google.com/assets/colab-badge.svg\" alt=\"Open In Colab\"/></a>"
   ]
  },
  {
   "cell_type": "markdown",
   "metadata": {
    "colab_type": "text",
    "id": "QoNIlOCg0ld-"
   },
   "source": [
    "#### Copyright 2020 Google LLC."
   ]
  },
  {
   "cell_type": "code",
   "execution_count": null,
   "metadata": {
    "colab": {},
    "colab_type": "code",
    "id": "0PeOT_r-0qk6"
   },
   "outputs": [],
   "source": [
    "# Licensed under the Apache License, Version 2.0 (the \"License\");\n",
    "# you may not use this file except in compliance with the License.\n",
    "# You may obtain a copy of the License at\n",
    "#\n",
    "# https://www.apache.org/licenses/LICENSE-2.0\n",
    "#\n",
    "# Unless required by applicable law or agreed to in writing, software\n",
    "# distributed under the License is distributed on an \"AS IS\" BASIS,\n",
    "# WITHOUT WARRANTIES OR CONDITIONS OF ANY KIND, either express or implied.\n",
    "# See the License for the specific language governing permissions and\n",
    "# limitations under the License."
   ]
  },
  {
   "cell_type": "markdown",
   "metadata": {
    "colab_type": "text",
    "id": "Alas-g2rycpP"
   },
   "source": [
    "# Big-O"
   ]
  },
  {
   "cell_type": "markdown",
   "metadata": {
    "colab_type": "text",
    "id": "ofjGUTFZ4mnn"
   },
   "source": [
    "Big-O notation is the most common notation for analyzing time and space complexity for code. Big-O (indicated by O) strictly indicates the worst case scenario, while Ω (Big-Omega) indicates the best case. Additionally, Θ (Big-Theta) indicates cases where the best and worst case scenarios have the same running time or space complexity. For example, if you have a `for` loop without `break` statements, the code will always iterate over the loop for a predetermined number of times. \n",
    "\n",
    "It's important to note, however, that Ω and Θ are not commonly used in industry. Instead, you'll likely see only Big-O being used, along with the words \"best case,\" \"worst case,\" and \"average case.\"\n",
    "\n",
    "In the exercises below, you'll have a chance to practice analyzing the time and space complexity for a number of functions and code snippets."
   ]
  },
  {
   "cell_type": "markdown",
   "metadata": {
    "colab_type": "text",
    "id": "JNLRw-pC5v0o"
   },
   "source": [
    "# Exercises"
   ]
  },
  {
   "cell_type": "code",
   "execution_count": null,
   "metadata": {
    "colab": {},
    "colab_type": "code",
    "id": "9e7g9bBFkpq2"
   },
   "outputs": [],
   "source": [
    "import random"
   ]
  },
  {
   "cell_type": "markdown",
   "metadata": {
    "colab_type": "text",
    "id": "rhQu4mE-1lnN"
   },
   "source": [
    "## Exercise 1: Add two numbers"
   ]
  },
  {
   "cell_type": "markdown",
   "metadata": {
    "colab_type": "text",
    "id": "Qx4rN0VG6iKd"
   },
   "source": [
    "Describe the time and space complexity for the following function using Big-O, Big-Theta, and Big-Omega notation.\n"
   ]
  },
  {
   "cell_type": "code",
   "execution_count": null,
   "metadata": {
    "colab": {},
    "colab_type": "code",
    "id": "4S2QZnGwkprC"
   },
   "outputs": [],
   "source": [
    "# Add two numbers\n",
    "\n",
    "def add(x, y):\n",
    "    return x + y"
   ]
  },
  {
   "cell_type": "markdown",
   "metadata": {
    "colab_type": "text",
    "id": "pWHBkBsk7lIq"
   },
   "source": [
    "### Student Solution"
   ]
  },
  {
   "cell_type": "markdown",
   "metadata": {
    "colab_type": "text",
    "id": "M4MfiLUr7rOg"
   },
   "source": [
    "Your answer goes here."
   ]
  },
  {
   "cell_type": "markdown",
   "metadata": {
    "colab_type": "text",
    "id": "PKt4epH_EioY"
   },
   "source": [
    "---"
   ]
  },
  {
   "cell_type": "markdown",
   "metadata": {
    "colab_type": "text",
    "id": "pehwCC5n1oQr"
   },
   "source": [
    "## Exercise 2: Search in a list"
   ]
  },
  {
   "cell_type": "markdown",
   "metadata": {
    "colab_type": "text",
    "id": "2g3R25-q98Hh"
   },
   "source": [
    "Describe the time and space complexity for the following function using Big-O, Big-Theta, and Big-Omega notation.\n"
   ]
  },
  {
   "cell_type": "code",
   "execution_count": null,
   "metadata": {
    "colab": {},
    "colab_type": "code",
    "id": "9tgt3M11kprO"
   },
   "outputs": [],
   "source": [
    "# Search in a list\n",
    "\n",
    "def find(arr, target):\n",
    "    for item in arr:\n",
    "        if item == target:\n",
    "            return True\n",
    "    return False"
   ]
  },
  {
   "cell_type": "markdown",
   "metadata": {
    "colab_type": "text",
    "id": "MuLSOjck_fpR"
   },
   "source": [
    "### Student Solution"
   ]
  },
  {
   "cell_type": "markdown",
   "metadata": {
    "colab_type": "text",
    "id": "M0dRwq-cA5JT"
   },
   "source": [
    "Your answer goes here."
   ]
  },
  {
   "cell_type": "markdown",
   "metadata": {
    "colab_type": "text",
    "id": "1CSvjShTElbu"
   },
   "source": [
    "---"
   ]
  },
  {
   "cell_type": "markdown",
   "metadata": {
    "colab_type": "text",
    "id": "j0o57mMa1q82"
   },
   "source": [
    "## Exercise 3: Search in an n x n matrix"
   ]
  },
  {
   "cell_type": "markdown",
   "metadata": {
    "colab_type": "text",
    "id": "W6aepRly-CQq"
   },
   "source": [
    "Describe the time and space complexity for the following function using Big-O, Big-Theta, and Big-Omega notation.\n"
   ]
  },
  {
   "cell_type": "code",
   "execution_count": null,
   "metadata": {
    "colab": {},
    "colab_type": "code",
    "id": "DAlrakiKkprU"
   },
   "outputs": [],
   "source": [
    "# Search in a nxn matrix\n",
    "\n",
    "def find(matrix, target):\n",
    "    if len(matrix) > 0:\n",
    "        for i in range(len(matrix)):\n",
    "            for j in range(len(matrix[0])):\n",
    "                if matrix[i][j] == target:\n",
    "                    return True\n",
    "    return False"
   ]
  },
  {
   "cell_type": "markdown",
   "metadata": {
    "colab_type": "text",
    "id": "xPcNqzXP_iGq"
   },
   "source": [
    "### Student Solution"
   ]
  },
  {
   "cell_type": "markdown",
   "metadata": {
    "colab_type": "text",
    "id": "4XRir004A6b_"
   },
   "source": [
    "Your answer goes here."
   ]
  },
  {
   "cell_type": "markdown",
   "metadata": {
    "colab_type": "text",
    "id": "jpYwJvKDFM1J"
   },
   "source": [
    "---"
   ]
  },
  {
   "cell_type": "markdown",
   "metadata": {
    "colab_type": "text",
    "id": "MOWC5nQJ2hU_"
   },
   "source": [
    "## Exercise 4: Replace a character "
   ]
  },
  {
   "cell_type": "markdown",
   "metadata": {
    "colab_type": "text",
    "id": "7z2nV3wG-EOx"
   },
   "source": [
    "The following function replaces a character from a given string with another character or string. For example, remove all commas.\n",
    "\n",
    "Describe the time and space complexity for this function using Big-O, Big-Theta, and Big-Omega notation.\n"
   ]
  },
  {
   "cell_type": "code",
   "execution_count": null,
   "metadata": {
    "colab": {},
    "colab_type": "code",
    "id": "vpAwgcnEkprY"
   },
   "outputs": [],
   "source": [
    "# Replace a character from string with another character or string (for example,\n",
    "# remove all commas)\n",
    "\n",
    "def replace(word, char_to_remove, char_to_insert=''):\n",
    "    temp = []\n",
    "    for c in word:\n",
    "        if c != char_to_remove:\n",
    "            temp.append(c)\n",
    "        else:\n",
    "            temp.append(char_to_insert)\n",
    "    return ''.join(temp)"
   ]
  },
  {
   "cell_type": "markdown",
   "metadata": {
    "colab_type": "text",
    "id": "Mk5s48S8AabQ"
   },
   "source": [
    "### Student Solution"
   ]
  },
  {
   "cell_type": "markdown",
   "metadata": {
    "colab_type": "text",
    "id": "-2T_1PbmA7bQ"
   },
   "source": [
    "Your answer goes here."
   ]
  },
  {
   "cell_type": "markdown",
   "metadata": {
    "colab_type": "text",
    "id": "0Aq_Aj_sFVdX"
   },
   "source": [
    "---"
   ]
  },
  {
   "cell_type": "markdown",
   "metadata": {
    "colab_type": "text",
    "id": "42kPEQXp2nv1"
   },
   "source": [
    "## Exercise 5: Apply lambda function to dataframe"
   ]
  },
  {
   "cell_type": "markdown",
   "metadata": {
    "colab_type": "text",
    "id": "hF46bR5f-Fmv"
   },
   "source": [
    "Describe the time and space complexity for the following function using Big-O, Big-Theta, and Big-Omega notation.\n"
   ]
  },
  {
   "cell_type": "code",
   "execution_count": null,
   "metadata": {
    "colab": {},
    "colab_type": "code",
    "id": "kFNJCw9Jkprc"
   },
   "outputs": [],
   "source": [
    "# Apply lambda function to dataframe\n",
    "import pandas as pd\n",
    "\n",
    "df = pd.DataFrame({'x': [1, 2, 3], 'old_column': [4, 5, 6]})\n",
    "df['new_column'] = df['old_column'].apply(lambda x: x * 1000)"
   ]
  },
  {
   "cell_type": "markdown",
   "metadata": {
    "colab_type": "text",
    "id": "RVfsOP-7AbxW"
   },
   "source": [
    "### Student Solution"
   ]
  },
  {
   "cell_type": "markdown",
   "metadata": {
    "colab_type": "text",
    "id": "zF4FsX9iA9BP"
   },
   "source": [
    "Your answer goes here."
   ]
  },
  {
   "cell_type": "markdown",
   "metadata": {
    "colab_type": "text",
    "id": "UTKuyyE1FYb7"
   },
   "source": [
    "---"
   ]
  },
  {
   "cell_type": "markdown",
   "metadata": {
    "colab_type": "text",
    "id": "tRVLL0fU22LA"
   },
   "source": [
    "## Exercise 6: Bubble Sort"
   ]
  },
  {
   "cell_type": "markdown",
   "metadata": {
    "colab_type": "text",
    "id": "Pgk4PVBO-HM4"
   },
   "source": [
    "Describe the time and space complexity for the following function using Big-O, Big-Theta, and Big-Omega notation.\n"
   ]
  },
  {
   "cell_type": "code",
   "execution_count": null,
   "metadata": {
    "colab": {},
    "colab_type": "code",
    "id": "HTcQ9UE0kprg"
   },
   "outputs": [],
   "source": [
    "# Bubble Sort\n",
    "\n",
    "def bubble_sort(arr):\n",
    "    sorted = False\n",
    "    while(not sorted):\n",
    "        sorted = True\n",
    "        for i, value in enumerate(arr[:-1]):\n",
    "            if value > arr[i+1]:\n",
    "                arr[i], arr[i+1] = arr[i+1], arr[i]\n",
    "                sorted = False\n",
    "    return arr"
   ]
  },
  {
   "cell_type": "markdown",
   "metadata": {
    "colab_type": "text",
    "id": "bdaHdRs1Agbj"
   },
   "source": [
    "### Student Solution"
   ]
  },
  {
   "cell_type": "markdown",
   "metadata": {
    "colab_type": "text",
    "id": "5BDo3TS2A-V1"
   },
   "source": [
    "Your answer goes here."
   ]
  },
  {
   "cell_type": "markdown",
   "metadata": {
    "colab_type": "text",
    "id": "T50WX-eaFb05"
   },
   "source": [
    "---"
   ]
  },
  {
   "cell_type": "markdown",
   "metadata": {
    "colab_type": "text",
    "id": "2dxmKYue3Mjc"
   },
   "source": [
    "## Exercise 7: (Challenge) Find all contiguous substrings"
   ]
  },
  {
   "cell_type": "markdown",
   "metadata": {
    "colab_type": "text",
    "id": "cwIvN0Ce-MoA"
   },
   "source": [
    "Describe the time and space complexity for the following function using Big-O, Big-Theta, and Big-Omega notation.\n"
   ]
  },
  {
   "cell_type": "code",
   "execution_count": null,
   "metadata": {
    "colab": {},
    "colab_type": "code",
    "id": "3tE6JPjJkprm"
   },
   "outputs": [],
   "source": [
    "# Challenges\n",
    "\n",
    "# Find all contiguous substrings\n",
    "\n",
    "def find_cont_substrings(arr):\n",
    "    substrings = set()\n",
    "    for i in range(len(arr)):\n",
    "        for j in range(i,len(arr)):\n",
    "            substrings.add(tuple(arr[i:j+1]))\n",
    "    return substrings"
   ]
  },
  {
   "cell_type": "markdown",
   "metadata": {
    "colab_type": "text",
    "id": "_NJ4mJI1AjCs"
   },
   "source": [
    "### Student Solution"
   ]
  },
  {
   "cell_type": "markdown",
   "metadata": {
    "colab_type": "text",
    "id": "60ebY4OVBAOR"
   },
   "source": [
    "Your answer goes here."
   ]
  },
  {
   "cell_type": "markdown",
   "metadata": {
    "colab_type": "text",
    "id": "ir3onqeDFeyp"
   },
   "source": [
    "---"
   ]
  },
  {
   "cell_type": "markdown",
   "metadata": {
    "colab_type": "text",
    "id": "QT7zwi_s3Taa"
   },
   "source": [
    "## Exercise 8: (Challenge) Find all contiguous substrings using list comprehension"
   ]
  },
  {
   "cell_type": "markdown",
   "metadata": {
    "colab_type": "text",
    "id": "Zcs_q5LQ-N8D"
   },
   "source": [
    "Describe the time and space complexity for the following function using Big-O, Big-Theta, and Big-Omega notation.\n"
   ]
  },
  {
   "cell_type": "code",
   "execution_count": null,
   "metadata": {
    "colab": {},
    "colab_type": "code",
    "id": "fXKXmUNXkprp"
   },
   "outputs": [],
   "source": [
    "# Using list comprehension:\n",
    "\n",
    "def find_substrings(arr):\n",
    "    length = len(arr)\n",
    "    return [arr[i:j+1] for i in range(length) for j in range(i,length)]"
   ]
  },
  {
   "cell_type": "markdown",
   "metadata": {
    "colab_type": "text",
    "id": "2x8FUdaMAkFc"
   },
   "source": [
    "### Student Solution"
   ]
  },
  {
   "cell_type": "markdown",
   "metadata": {
    "colab_type": "text",
    "id": "3bvfNa3dBBNt"
   },
   "source": [
    "Your answer goes here."
   ]
  },
  {
   "cell_type": "markdown",
   "metadata": {
    "colab_type": "text",
    "id": "1QzdJ0U2FiAU"
   },
   "source": [
    "---"
   ]
  },
  {
   "cell_type": "markdown",
   "metadata": {
    "colab_type": "text",
    "id": "q5f9E2_L3e3c"
   },
   "source": [
    "## Exercise 9: (Challenge) Find or implement a faster sorting method"
   ]
  },
  {
   "cell_type": "markdown",
   "metadata": {
    "colab_type": "text",
    "id": "t-gAbfai-RRM"
   },
   "source": [
    "Find or implement a faster sorting method, and describe its time and space complexity using Big-O, Big-Theta, and Big-Omega notation.\n"
   ]
  },
  {
   "cell_type": "markdown",
   "metadata": {
    "colab_type": "text",
    "id": "Th6447X4Al8x"
   },
   "source": [
    "### Student Solution"
   ]
  },
  {
   "cell_type": "code",
   "execution_count": null,
   "metadata": {
    "colab": {},
    "colab_type": "code",
    "id": "1gSQSTFvBCoM"
   },
   "outputs": [],
   "source": [
    "# Your code goes here"
   ]
  },
  {
   "cell_type": "markdown",
   "metadata": {
    "colab_type": "text",
    "id": "3eez9IqcBCoC"
   },
   "source": [
    "Your answer goes here."
   ]
  },
  {
   "cell_type": "markdown",
   "metadata": {
    "colab_type": "text",
    "id": "AvJ6H6_mFk8D"
   },
   "source": [
    "---"
   ]
  },
  {
   "cell_type": "markdown",
   "metadata": {
    "colab_type": "text",
    "id": "nxBL_cM24D4H"
   },
   "source": [
    "## Exercise 10: (Challenge) Generate the power set of a list"
   ]
  },
  {
   "cell_type": "markdown",
   "metadata": {
    "colab_type": "text",
    "id": "r9NprBUq-0K5"
   },
   "source": [
    "Write a function to generate the [power set](https://www.mathsisfun.com/sets/power-set.html) of a list. What is the time and space complexity of this function? "
   ]
  },
  {
   "cell_type": "markdown",
   "metadata": {
    "colab_type": "text",
    "id": "hyy1sISQApl4"
   },
   "source": [
    "### Student Solution"
   ]
  },
  {
   "cell_type": "code",
   "execution_count": null,
   "metadata": {
    "colab": {},
    "colab_type": "code",
    "id": "Bu6vx-7ZYoa1"
   },
   "outputs": [],
   "source": [
    "# Your code goes here"
   ]
  },
  {
   "cell_type": "markdown",
   "metadata": {
    "colab_type": "text",
    "id": "Bv1TAUwWBD3g"
   },
   "source": [
    "Your answer goes here."
   ]
  },
  {
   "cell_type": "markdown",
   "metadata": {
    "colab_type": "text",
    "id": "lvgGom53G1uR"
   },
   "source": [
    "---"
   ]
  }
 ],
 "metadata": {
  "colab": {
   "collapsed_sections": [
    "QoNIlOCg0ld-",
    "avCsELnN75SG",
    "_QK-C_AJA5Jc",
    "pahtAHF0A6cD",
    "58UpCmu3A7bT",
    "DHTU50GgA9BT",
    "KA7zv7HSA-V4",
    "pUh3yo-eBAOX",
    "3PCLqXQqBBNv",
    "3h5LQkU2BCoF",
    "LvDgs01wBD3k"
   ],
   "include_colab_link": true,
   "name": "Big-O",
   "private_outputs": true,
   "provenance": [],
   "toc_visible": true
  },
  "kernelspec": {
   "display_name": "Python 3",
   "language": "python",
   "name": "python3"
  },
  "language_info": {
   "codemirror_mode": {
    "name": "ipython",
    "version": 3
   },
   "file_extension": ".py",
   "mimetype": "text/x-python",
   "name": "python",
   "nbconvert_exporter": "python",
   "pygments_lexer": "ipython3",
   "version": "3.6.6"
  }
 },
 "nbformat": 4,
 "nbformat_minor": 0
}

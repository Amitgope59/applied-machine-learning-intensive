{
 "cells": [
  {
   "cell_type": "markdown",
   "metadata": {
    "colab_type": "text",
    "id": "view-in-github"
   },
   "source": [
    "<a href=\"https://colab.research.google.com/github/google/applied-machine-learning-intensive/blob/master/content/xx_misc/regular_expressions/colab.ipynb\" target=\"_parent\"><img src=\"https://colab.research.google.com/assets/colab-badge.svg\" alt=\"Open In Colab\"/></a>"
   ]
  },
  {
   "cell_type": "markdown",
   "metadata": {
    "colab_type": "text",
    "id": "ZPyQ91RzsyCV"
   },
   "source": [
    "#### Copyright 2020 Google LLC."
   ]
  },
  {
   "cell_type": "code",
   "execution_count": null,
   "metadata": {
    "colab": {},
    "colab_type": "code",
    "id": "I2vIQjYMsxsf"
   },
   "outputs": [],
   "source": [
    "# Licensed under the Apache License, Version 2.0 (the \"License\");\n",
    "# you may not use this file except in compliance with the License.\n",
    "# You may obtain a copy of the License at\n",
    "#\n",
    "# https://www.apache.org/licenses/LICENSE-2.0\n",
    "#\n",
    "# Unless required by applicable law or agreed to in writing, software\n",
    "# distributed under the License is distributed on an \"AS IS\" BASIS,\n",
    "# WITHOUT WARRANTIES OR CONDITIONS OF ANY KIND, either express or implied.\n",
    "# See the License for the specific language governing permissions and\n",
    "# limitations under the License."
   ]
  },
  {
   "cell_type": "markdown",
   "metadata": {
    "colab_type": "text",
    "id": "mzXq4b1bAWvY"
   },
   "source": [
    "# Introduction to Regular Expressions"
   ]
  },
  {
   "cell_type": "markdown",
   "metadata": {
    "colab_type": "text",
    "id": "yiqQT6FKkYLZ"
   },
   "source": [
    "[Regular Expressions](https://docs.python.org/3/howto/regex.html) are a powerful feature of the Python programming language. You can access Python's regular expression support through the [re](https://docs.python.org/3/library/re.html#module-re) module."
   ]
  },
  {
   "cell_type": "markdown",
   "metadata": {
    "colab_type": "text",
    "id": "dmTBPyLcIb2q"
   },
   "source": [
    "## Matching Literals"
   ]
  },
  {
   "cell_type": "markdown",
   "metadata": {
    "colab_type": "text",
    "id": "t1Kv4aJ2BPDi"
   },
   "source": [
    "A regular expression is simply a string of text. The most basic regular expression is just a string containing only alphanumeric characters.\n",
    "\n",
    "We use the `re.compile(...)` method to convert the regular expression string into a `Pattern` object."
   ]
  },
  {
   "cell_type": "code",
   "execution_count": null,
   "metadata": {
    "colab": {},
    "colab_type": "code",
    "id": "Hdf9UDj235Iv"
   },
   "outputs": [],
   "source": [
    "import re"
   ]
  },
  {
   "cell_type": "code",
   "execution_count": null,
   "metadata": {
    "colab": {},
    "colab_type": "code",
    "id": "1BbJa6eDBFmw"
   },
   "outputs": [],
   "source": [
    "pattern = re.compile('Hello')\n",
    "type(pattern)"
   ]
  },
  {
   "cell_type": "markdown",
   "metadata": {
    "colab_type": "text",
    "id": "Oe3G-7UgGnLF"
   },
   "source": [
    "Now that we have a compiled regular expression, we can see if the pattern matches another string."
   ]
  },
  {
   "cell_type": "code",
   "execution_count": null,
   "metadata": {
    "colab": {},
    "colab_type": "code",
    "id": "q3-FAoxrGGfT"
   },
   "outputs": [],
   "source": [
    "if pattern.match('Hello World'):\n",
    "  print(\"We found a match\")\n",
    "else:\n",
    "  print(\"No match found\")"
   ]
  },
  {
   "cell_type": "markdown",
   "metadata": {
    "colab_type": "text",
    "id": "B45PBdJJGqMs"
   },
   "source": [
    "In the case above we found a match because `'Hello'` is part of `'Hello World'`.\n",
    "\n",
    "What happens if `'Hello'` is not at the start of a string?"
   ]
  },
  {
   "cell_type": "code",
   "execution_count": null,
   "metadata": {
    "colab": {},
    "colab_type": "code",
    "id": "lXLLDGFnGywf"
   },
   "outputs": [],
   "source": [
    "if pattern.match('I said Hello World'):\n",
    "  print(\"We found a match\")\n",
    "else:\n",
    "  print(\"No match found\")"
   ]
  },
  {
   "cell_type": "markdown",
   "metadata": {
    "colab_type": "text",
    "id": "KtpkCorQG5ld"
   },
   "source": [
    "So the match only works if the pattern matches the start of the other string. What if the case is different?"
   ]
  },
  {
   "cell_type": "code",
   "execution_count": null,
   "metadata": {
    "colab": {},
    "colab_type": "code",
    "id": "UYBJTr_0G8AG"
   },
   "outputs": [],
   "source": [
    "if pattern.match('HELLO'):\n",
    "  print(\"We found a match\")\n",
    "else:\n",
    "  print(\"No match found\")"
   ]
  },
  {
   "cell_type": "markdown",
   "metadata": {
    "colab_type": "text",
    "id": "OfMhyvxvG-uH"
   },
   "source": [
    "Doesn't work. By default, the match is case sensitive.\n",
    "\n",
    "What if it is only a partial match?"
   ]
  },
  {
   "cell_type": "code",
   "execution_count": null,
   "metadata": {
    "colab": {},
    "colab_type": "code",
    "id": "Js3nCsDtGkAM"
   },
   "outputs": [],
   "source": [
    "if pattern.match('He'):\n",
    "  print(\"We found a match\")\n",
    "else:\n",
    "  print(\"No match found\")"
   ]
  },
  {
   "cell_type": "markdown",
   "metadata": {
    "colab_type": "text",
    "id": "DnepFiVEHByi"
   },
   "source": [
    "From what we have seen so far, matching with a string literal is pretty much functionally equivalent to the Python `startswith(...)` method that already comes as part of the `String` class."
   ]
  },
  {
   "cell_type": "code",
   "execution_count": null,
   "metadata": {
    "colab": {},
    "colab_type": "code",
    "id": "ozYrh_3fHLJW"
   },
   "outputs": [],
   "source": [
    "if \"Hello World\".startswith(\"Hello\"):\n",
    "  print(\"We found a match\")\n",
    "else:\n",
    "  print(\"No match found\")"
   ]
  },
  {
   "cell_type": "markdown",
   "metadata": {
    "colab_type": "text",
    "id": "p7epVNgkHtaM"
   },
   "source": [
    "Well, that isn't too exciting. But it does provide us with an opportunity for a valuable lesson: *Regular expressions are often not the best solution for a problem.*\n",
    "\n",
    "As we continue on in this colab, we'll see how powerful and expressive regular expressions can be. It is tempting to whip out a regular expression for many cases where they may not be the best solution. The regular expression engine can be slow for many types of expressions. Sometimes using other built-in tools or coding a solution in standard Python is better; sometimes it isn't."
   ]
  },
  {
   "cell_type": "markdown",
   "metadata": {
    "colab_type": "text",
    "id": "JM7WMkInIgd4"
   },
   "source": [
    "## Repetition"
   ]
  },
  {
   "cell_type": "markdown",
   "metadata": {
    "colab_type": "text",
    "id": "IulSHTqkwCV3"
   },
   "source": [
    "Matching exact characters one-by-one is kind of boring and doesn't allow regular expressions to showcase their true power. Let's move on to some more dynamic parts of the regular expression language. We will begin with repetition."
   ]
  },
  {
   "cell_type": "markdown",
   "metadata": {
    "colab_type": "text",
    "id": "V71t-LbGwu7Q"
   },
   "source": [
    "### One or More\n",
    "\n",
    "There are many cases where you'll need \"one or more\" of some character. To accomplish this, you simply add the `+` sign after the character that you want one or more of.\n",
    "\n",
    "In the example below, we create an expression that looks for one or more 'b' characters. Notice how 'abc' and 'abbbbbbbc' are fine, but if we take all of the 'b' characters out, we don't get a match."
   ]
  },
  {
   "cell_type": "code",
   "execution_count": null,
   "metadata": {
    "colab": {},
    "colab_type": "code",
    "id": "hM17EsfHIlVR"
   },
   "outputs": [],
   "source": [
    "pattern = re.compile(\"ab+c\")\n",
    "\n",
    "for string in (\n",
    "  'abc',\n",
    "  'abbbbbbbc',\n",
    "  'ac',\n",
    "  ):\n",
    "  print(\"'{}'\".format(string), end=' ')\n",
    "  print('matches' if pattern.match(string) else 'does not match')"
   ]
  },
  {
   "cell_type": "markdown",
   "metadata": {
    "colab_type": "text",
    "id": "qG66gUuwxOQL"
   },
   "source": [
    "### Zero or More\n",
    "\n",
    "Sometimes we find ourselves in a situation where we're actually okay with \"zero or more\" instances of a character. For this we use the '*' sign.\n",
    "\n",
    "In the example below we create an expression that looks for zero or more 'b' characters. In this case all of the matches are successful."
   ]
  },
  {
   "cell_type": "code",
   "execution_count": null,
   "metadata": {
    "colab": {},
    "colab_type": "code",
    "id": "uApdY0VXxsyB"
   },
   "outputs": [],
   "source": [
    "pattern = re.compile(\"ab*c\")\n",
    "\n",
    "for string in (\n",
    "  'abc',\n",
    "  'abbbbbbbc',\n",
    "  'ac',\n",
    "  ):\n",
    "  print(\"'{}'\".format(string), end=' ')\n",
    "  print('matches' if pattern.match(string) else 'does not match')"
   ]
  },
  {
   "cell_type": "markdown",
   "metadata": {
    "colab_type": "text",
    "id": "AaH5C9sXxxvW"
   },
   "source": [
    "### One or None\n",
    "\n",
    "We've now seen cases where we will allow one-and-only-one of a character (exact match), one-or-more of a character, and zero-or-more of a character. The next case is the \"one or none\" case. For that we use the '?' sign."
   ]
  },
  {
   "cell_type": "code",
   "execution_count": null,
   "metadata": {
    "colab": {},
    "colab_type": "code",
    "id": "h1q_CzfKyIaT"
   },
   "outputs": [],
   "source": [
    "pattern = re.compile(\"ab?c\")\n",
    "\n",
    "for string in (\n",
    "  'abc',\n",
    "  'abbbbbbbc',\n",
    "  'ac',\n",
    "  ):\n",
    "  print(\"'{}'\".format(string), end=' ')\n",
    "  print('matches' if pattern.match(string) else 'does not match')"
   ]
  },
  {
   "cell_type": "markdown",
   "metadata": {
    "colab_type": "text",
    "id": "0XELmnxbzqyX"
   },
   "source": [
    "### M\n",
    "\n",
    "What if you want to match a very specific number of a specific character, but you don't want to type all of those characters in? The `{m}` expression is great for that. The 'm' value specifies exactly how many repetitions you want."
   ]
  },
  {
   "cell_type": "code",
   "execution_count": null,
   "metadata": {
    "colab": {},
    "colab_type": "code",
    "id": "ZigMHVvWzkqI"
   },
   "outputs": [],
   "source": [
    "pattern = re.compile(\"ab{7}c\")\n",
    "\n",
    "for string in (\n",
    "  'abc', \n",
    "  'abbbbbbc', \n",
    "  'abbbbbbbc',\n",
    "  'abbbbbbbbc',\n",
    "  ):\n",
    "  print(\"'{}'\".format(string), end=' ')\n",
    "  print('matches' if pattern.match(string) else 'does not match')"
   ]
  },
  {
   "cell_type": "markdown",
   "metadata": {
    "colab_type": "text",
    "id": "VJ4V0MGc0Jb1"
   },
   "source": [
    "### M or More\n",
    "\n",
    "You can also ask for m-or-more of a character. Leaving a dangling comma in the `{m,}` does the trick."
   ]
  },
  {
   "cell_type": "code",
   "execution_count": null,
   "metadata": {
    "colab": {},
    "colab_type": "code",
    "id": "Jm6TpRT20gnU"
   },
   "outputs": [],
   "source": [
    "pattern = re.compile(\"ab{2,}c\")\n",
    "\n",
    "for string in (\n",
    "  'abc',\n",
    "  'abbc',\n",
    "  'abbbbbbbbbbbbbbbbbbbbbbbbbbbbbbc',\n",
    "  ):\n",
    "  print(\"'{}'\".format(string), end=' ')\n",
    "  print('matches' if pattern.match(string) else 'does not match')"
   ]
  },
  {
   "cell_type": "markdown",
   "metadata": {
    "colab_type": "text",
    "id": "r7vBOezF0q4K"
   },
   "source": [
    "### M through N\n",
    "\n",
    "You can also request a specific range of repetition using `{m,n}`. Notice that 'n' is *inclusive*. This is one of the rare times that you'll find ranges in Python that are inclusive at the end. Any ideas why? "
   ]
  },
  {
   "cell_type": "code",
   "execution_count": null,
   "metadata": {
    "colab": {},
    "colab_type": "code",
    "id": "487pvyKX0zQ7"
   },
   "outputs": [],
   "source": [
    "pattern = re.compile(\"ab{4,6}c\")\n",
    "\n",
    "for string in (\n",
    "  'abbbc',\n",
    "  'abbbbc',\n",
    "  'abbbbbc',\n",
    "  'abbbbbbc',\n",
    "  'abbbbbbbc',\n",
    "  ):\n",
    "  print(\"'{}'\".format(string), end=' ')\n",
    "  print('matches' if pattern.match(string) else 'does not match')"
   ]
  },
  {
   "cell_type": "markdown",
   "metadata": {
    "colab_type": "text",
    "id": "R5S-YKDU1TOf"
   },
   "source": [
    "### N or Fewer\n",
    "\n",
    "Sometimes you want a specific number of repetitions or fewer. For this, you can use a comma before the 'n' parameter like `{,n}`. Notice that \"fewer\" includes zero instances of the character."
   ]
  },
  {
   "cell_type": "code",
   "execution_count": null,
   "metadata": {
    "colab": {},
    "colab_type": "code",
    "id": "OkobMulo14kS"
   },
   "outputs": [],
   "source": [
    "pattern = re.compile(\"ab{,4}c\")\n",
    "\n",
    "for string in (\n",
    "  'abbbbbc', \n",
    "  'abbbbc', \n",
    "  'abbbc',\n",
    "  'abbc',\n",
    "  'abc',\n",
    "  'ac',\n",
    "  'a',\n",
    "  ):\n",
    "  print(\"'{}'\".format(string), end=' ')\n",
    "  print('matches' if pattern.match(string) else 'does not match')"
   ]
  },
  {
   "cell_type": "markdown",
   "metadata": {
    "colab_type": "text",
    "id": "pWn7ZBx8yMnS"
   },
   "source": [
    "Though we have illustrated these repetition operations on single characters, they actually apply to more complex combinations of characters, as we'll see soon."
   ]
  },
  {
   "cell_type": "markdown",
   "metadata": {
    "colab_type": "text",
    "id": "T6S6i1xX70FX"
   },
   "source": [
    "## Character Sets"
   ]
  },
  {
   "cell_type": "markdown",
   "metadata": {
    "colab_type": "text",
    "id": "HWmNiwS_74ZZ"
   },
   "source": [
    "Matching a single character with repetition can be very useful, but often we want to work with more than one character. For that, the regular expressions need to have the concept of character sets. Character sets are contained within square brackets: `[]`\n",
    "\n",
    "The character set below specifies that we'll match any string that starts with a vowel."
   ]
  },
  {
   "cell_type": "code",
   "execution_count": null,
   "metadata": {
    "colab": {},
    "colab_type": "code",
    "id": "potLC8Mv9niZ"
   },
   "outputs": [],
   "source": [
    "pattern = re.compile('[aeiou]')\n",
    "\n",
    "for string in (\n",
    "  'a',\n",
    "  'e',\n",
    "  'i',\n",
    "  'o',\n",
    "  'u',\n",
    "  'x',\n",
    "  'ax',\n",
    "  'ex',\n",
    "  'ix',\n",
    "  'ox',\n",
    "  'ux',\n",
    "  'xa',\n",
    "  'xe',\n",
    "  'xi',\n",
    "  'xo',\n",
    "  'xu',\n",
    "  'xx',\n",
    "  ):\n",
    "  print(\"'{}'\".format(string), end=' ')\n",
    "  print('matches' if pattern.match(string) else 'does not match')"
   ]
  },
  {
   "cell_type": "markdown",
   "metadata": {
    "colab_type": "text",
    "id": "rRy_yeLyCyUJ"
   },
   "source": [
    "Character sets can be bound to any of the repetition symbols that we have already seen. For example, if we wanted to match words that start with at least two vowels we could use the character set below."
   ]
  },
  {
   "cell_type": "code",
   "execution_count": null,
   "metadata": {
    "colab": {},
    "colab_type": "code",
    "id": "IqtNeswnDDi4"
   },
   "outputs": [],
   "source": [
    "pattern = re.compile('[aeiou]{2,}')\n",
    "\n",
    "for string in (\n",
    "  'aardvark',\n",
    "  'earth',\n",
    "  'eat',\n",
    "  'oar',\n",
    "  'aioli',\n",
    "  'ute',\n",
    "  'absolutely',\n",
    "  ):\n",
    "  print(\"'{}'\".format(string), end=' ')\n",
    "  print('matches' if pattern.match(string) else 'does not match')"
   ]
  },
  {
   "cell_type": "markdown",
   "metadata": {
    "colab_type": "text",
    "id": "1mX56U-WDswC"
   },
   "source": [
    "Character sets can also be negated. Simply put a `^` symbol at the start of the character set."
   ]
  },
  {
   "cell_type": "code",
   "execution_count": null,
   "metadata": {
    "colab": {},
    "colab_type": "code",
    "id": "Oehys5JpD7Dh"
   },
   "outputs": [],
   "source": [
    "pattern = re.compile('[^aeiou]')\n",
    "\n",
    "for string in (\n",
    "  'aardvark',\n",
    "  'earth',\n",
    "  'ice',\n",
    "  'oar',\n",
    "  'ukulele',\n",
    "  'bathtub',\n",
    "  ):\n",
    "  print(\"'{}'\".format(string), end=' ')\n",
    "  print('matches' if pattern.match(string) else 'does not match')"
   ]
  },
  {
   "cell_type": "markdown",
   "metadata": {
    "colab_type": "text",
    "id": "aYnzd_-lEHV8"
   },
   "source": [
    "## Character Classes\n",
    "\n",
    "Some groupings of characters are so common that they have a shorthand \"character class\" assigned to them. Common character classes are represented by a backslash and a letter designating the class. For instance `\\d` is the class for digits."
   ]
  },
  {
   "cell_type": "code",
   "execution_count": null,
   "metadata": {
    "colab": {},
    "colab_type": "code",
    "id": "siaH5X2QE4ql"
   },
   "outputs": [],
   "source": [
    "pattern = re.compile('\\d')\n",
    "\n",
    "for string in (\n",
    "  'abc',\n",
    "  '123',\n",
    "  '1a2b',\n",
    "  ):\n",
    "  print(\"'{}'\".format(string), end=' ')\n",
    "  print('matches' if pattern.match(string) else 'does not match')"
   ]
  },
  {
   "cell_type": "markdown",
   "metadata": {
    "colab_type": "text",
    "id": "iL0CPdr5E_Qc"
   },
   "source": [
    "These classes can have repetitions after them, just like character sets."
   ]
  },
  {
   "cell_type": "code",
   "execution_count": null,
   "metadata": {
    "colab": {},
    "colab_type": "code",
    "id": "0drzAmTYFG9D"
   },
   "outputs": [],
   "source": [
    "pattern = re.compile('\\d{4,}')\n",
    "\n",
    "for string in (\n",
    "  'a',\n",
    "  '123',\n",
    "  '1234',\n",
    "  '12345',\n",
    "  '1234a',\n",
    "  ):\n",
    "  print(\"'{}'\".format(string), end=' ')\n",
    "  print('matches' if pattern.match(string) else 'does not match')"
   ]
  },
  {
   "cell_type": "markdown",
   "metadata": {
    "colab_type": "text",
    "id": "Hxua3xTVFWG5"
   },
   "source": [
    "There are many common character classes.\n",
    "\n",
    "* \\d matches digits\n",
    "* \\s matches spaces, tabs, etc.\n",
    "* \\w matches 'word' characters which include the letters of most languages, digits, and the underscore character"
   ]
  },
  {
   "cell_type": "code",
   "execution_count": null,
   "metadata": {
    "colab": {},
    "colab_type": "code",
    "id": "ugIVdXFtGJ8K"
   },
   "outputs": [],
   "source": [
    "pattern = re.compile('\\w\\s\\d')\n",
    "\n",
    "for string in (\n",
    "  'a',\n",
    "  '1 3',\n",
    "  '_ 4',\n",
    "  'w 5',\n",
    "  ):\n",
    "  print(\"'{}'\".format(string), end=' ')\n",
    "  print('matches' if pattern.match(string) else 'does not match')"
   ]
  },
  {
   "cell_type": "markdown",
   "metadata": {
    "colab_type": "text",
    "id": "aGfdT4YiGYhC"
   },
   "source": [
    "You can mix these classes with repetitions."
   ]
  },
  {
   "cell_type": "code",
   "execution_count": null,
   "metadata": {
    "colab": {},
    "colab_type": "code",
    "id": "Fgp-BUFfGcX9"
   },
   "outputs": [],
   "source": [
    "pattern = re.compile('\\d+\\s\\w+')\n",
    "\n",
    "for string in (\n",
    "  'a',\n",
    "  '16 Candles',\n",
    "  '47 Hats',\n",
    "  'Number 5',\n",
    "  ):\n",
    "  print(\"'{}'\".format(string), end=' ')\n",
    "  print('matches' if pattern.match(string) else 'does not match')"
   ]
  },
  {
   "cell_type": "markdown",
   "metadata": {
    "colab_type": "text",
    "id": "J9c6ZzP_Hlfv"
   },
   "source": [
    "But what if you want to find everything that isn't a digit? Or everything that isn't a space?\n",
    "\n",
    "To do that, simply put the character class in upper-case."
   ]
  },
  {
   "cell_type": "code",
   "execution_count": null,
   "metadata": {
    "colab": {},
    "colab_type": "code",
    "id": "qFt0rqSMHvyU"
   },
   "outputs": [],
   "source": [
    "print(\"Not a digit\")\n",
    "pattern = re.compile('\\D')\n",
    "for string in (\n",
    "  'a',\n",
    "  '1',\n",
    "  ' ',\n",
    "  ):\n",
    "  print(\"'{}'\".format(string), end=' ')\n",
    "  print('matches' if pattern.match(string) else 'does not match')\n",
    "\n",
    "print(\"\\n\")\n",
    "print(\"Not a space\")\n",
    "pattern = re.compile('\\S')\n",
    "for string in (\n",
    "  'a',\n",
    "  '1',\n",
    "  ' ',\n",
    "  ):\n",
    "  print(\"'{}'\".format(string), end=' ')\n",
    "  print('matches' if pattern.match(string) else 'does not match')\n",
    "\n",
    "print(\"\\n\")\n",
    "print(\"Not a word\")\n",
    "pattern = re.compile('\\W')\n",
    "for string in (\n",
    "  'a',\n",
    "  '1',\n",
    "  ' ',\n",
    "  ):\n",
    "  print(\"'{}'\".format(string), end=' ')\n",
    "  print('matches' if pattern.match(string) else 'does not match')"
   ]
  },
  {
   "cell_type": "markdown",
   "metadata": {
    "colab_type": "text",
    "id": "YZ4C2PEAIbu_"
   },
   "source": [
    "## Placement\n",
    "\n",
    "We've moved into some pretty powerful stuff, but up until now all of our regular expressions have started matching from the first letter of a string. That is useful, but sometimes you'd like to match from anywhere in the string, or specifically at the end of the string. Let's explore some options for moving past the first character."
   ]
  },
  {
   "cell_type": "markdown",
   "metadata": {
    "colab_type": "text",
    "id": "NpAo4K9gI3Ex"
   },
   "source": [
    "### The Dot\n",
    "\n",
    "So far we have always had to have some character to match, but what if we don't care what character we encounter? The dot (`.`) is a placeholder for any character."
   ]
  },
  {
   "cell_type": "code",
   "execution_count": null,
   "metadata": {
    "colab": {},
    "colab_type": "code",
    "id": "OABpPeNTLepF"
   },
   "outputs": [],
   "source": [
    "pattern = re.compile('.')\n",
    "\n",
    "for string in (\n",
    "  'a',\n",
    "  ' ',\n",
    "  '4',\n",
    "  ):\n",
    "  print(\"'{}'\".format(string), end=' ')\n",
    "  print('matches' if pattern.match(string) else 'does not match')"
   ]
  },
  {
   "cell_type": "markdown",
   "metadata": {
    "colab_type": "text",
    "id": "LfrzGekCLn5q"
   },
   "source": [
    "Though it might seem rather bland at first, the dot can be really useful when combined with repetition symbols."
   ]
  },
  {
   "cell_type": "code",
   "execution_count": null,
   "metadata": {
    "colab": {},
    "colab_type": "code",
    "id": "hzC3VxWNL2md"
   },
   "outputs": [],
   "source": [
    "pattern = re.compile('.*s')\n",
    "\n",
    "for string in (\n",
    "  'as',\n",
    "  ' oh no bees',\n",
    "  'does this match',\n",
    "  'maybe',\n",
    "  ):\n",
    "  print(\"'{}'\".format(string), end=' ')\n",
    "  print('matches' if pattern.match(string) else 'does not match')"
   ]
  },
  {
   "cell_type": "markdown",
   "metadata": {
    "colab_type": "text",
    "id": "hsYLeq3tMICA"
   },
   "source": [
    "As you can see, using the dot allows us to move past the start of the string we want to match and instead search deeper inside the target string."
   ]
  },
  {
   "cell_type": "markdown",
   "metadata": {
    "colab_type": "text",
    "id": "X-UTVwpwMVGI"
   },
   "source": [
    "### Starting Anchor\n",
    "\n",
    "Now we can search anywhere in a string. However, we might still want to add a starting anchor to the beginning of a string for part of our match. The `^`  anchors our match to the start of the string."
   ]
  },
  {
   "cell_type": "code",
   "execution_count": null,
   "metadata": {
    "colab": {},
    "colab_type": "code",
    "id": "uF-yWFoMMs4g"
   },
   "outputs": [],
   "source": [
    "pattern = re.compile('^a.*s')\n",
    "\n",
    "for string in (\n",
    "  'as',\n",
    "  'not as',\n",
    "  'a string that matches',\n",
    "  'a fancy string that matches',\n",
    "  ):\n",
    "  print(\"'{}'\".format(string), end=' ')\n",
    "  print('matches' if pattern.match(string) else 'does not match')"
   ]
  },
  {
   "cell_type": "markdown",
   "metadata": {
    "colab_type": "text",
    "id": "vPRtVsH7M3Qd"
   },
   "source": [
    "### Ending Anchor\n",
    "\n",
    "We can anchor to the end of a string with the `$` symbol."
   ]
  },
  {
   "cell_type": "code",
   "execution_count": null,
   "metadata": {
    "colab": {},
    "colab_type": "code",
    "id": "-wvo42nZNE_i"
   },
   "outputs": [],
   "source": [
    "pattern = re.compile('.*s$')\n",
    "\n",
    "for string in (\n",
    "  'as',\n",
    "  'beees',\n",
    "  'sa',\n",
    "  ):\n",
    "  print(\"'{}'\".format(string), end=' ')\n",
    "  print('matches' if pattern.match(string) else 'does not match')\n"
   ]
  },
  {
   "cell_type": "markdown",
   "metadata": {
    "colab_type": "text",
    "id": "hDEFInB4NSxS"
   },
   "source": [
    "## Grouping\n",
    "\n",
    "We have searched for exact patterns in our data, but sometimes we want *either* one thing *or* another. We can group searches with parentheses and match only one item in a group."
   ]
  },
  {
   "cell_type": "code",
   "execution_count": null,
   "metadata": {
    "colab": {},
    "colab_type": "code",
    "id": "-HBIfz7dNm-O"
   },
   "outputs": [],
   "source": [
    "pattern = re.compile('.*(cat|dog)')\n",
    "\n",
    "for string in (\n",
    "  'cat',\n",
    "  'dog',\n",
    "  'fat cat',\n",
    "  'lazy dog',\n",
    "  'hog',\n",
    "  ):\n",
    "  print(\"'{}'\".format(string), end=' ')\n",
    "  print('matches' if pattern.match(string) else 'does not match')"
   ]
  },
  {
   "cell_type": "markdown",
   "metadata": {
    "colab_type": "text",
    "id": "HuaWKVrUN3I2"
   },
   "source": [
    "Grouping can also be done on a single item."
   ]
  },
  {
   "cell_type": "code",
   "execution_count": null,
   "metadata": {
    "colab": {},
    "colab_type": "code",
    "id": "knJF7BbIN-Qi"
   },
   "outputs": [],
   "source": [
    "pattern = re.compile('.*(dog)')\n",
    "\n",
    "for string in (\n",
    "  'cat',\n",
    "  'dog',\n",
    "  'fat cat',\n",
    "  'lazy dog',\n",
    "  'hog',\n",
    "  ):\n",
    "  print(\"'{}'\".format(string), end=' ')\n",
    "  print('matches' if pattern.match(string) else 'does not match')"
   ]
  },
  {
   "cell_type": "markdown",
   "metadata": {
    "colab_type": "text",
    "id": "G_h15TJlOBeH"
   },
   "source": [
    "But why would you ever group a single item? It turns out that grouping is 'capture grouping' by default and allows you to extract items from a string."
   ]
  },
  {
   "cell_type": "code",
   "execution_count": null,
   "metadata": {
    "colab": {},
    "colab_type": "code",
    "id": "Eb4PuHQkOObL"
   },
   "outputs": [],
   "source": [
    "pattern = re.compile('.*(dog)')\n",
    "\n",
    "match = pattern.match(\"hot diggity dog\")\n",
    "\n",
    "if match:\n",
    "  print(match.group(0))\n",
    "  print(match.group(1))"
   ]
  },
  {
   "cell_type": "markdown",
   "metadata": {
    "colab_type": "text",
    "id": "ZZtPgDNOPWPI"
   },
   "source": [
    "In the case above, the entire string is considered group 0 because it matched the expression, but then the string 'dog' is group 1 because it was 'captured' by the parenthesis.\n",
    "\n",
    "You can have more than one capture group:"
   ]
  },
  {
   "cell_type": "code",
   "execution_count": null,
   "metadata": {
    "colab": {},
    "colab_type": "code",
    "id": "6UrNOQEfPpDM"
   },
   "outputs": [],
   "source": [
    "pattern = re.compile('.*(dog).*(cat)')\n",
    "\n",
    "match = pattern.match(\"hot diggity dog barked at a scared cat\")\n",
    "\n",
    "if match:\n",
    "  print(match.group(0))\n",
    "  print(match.group(1))\n",
    "  print(match.group(2))"
   ]
  },
  {
   "cell_type": "markdown",
   "metadata": {
    "colab_type": "text",
    "id": "dDe7jOlDQedr"
   },
   "source": [
    "And capture groups can contain multiple values:"
   ]
  },
  {
   "cell_type": "code",
   "execution_count": null,
   "metadata": {
    "colab": {},
    "colab_type": "code",
    "id": "gZjJOTzTP8gg"
   },
   "outputs": [],
   "source": [
    "pattern = re.compile('.*(dog).*(mouse|cat)')\n",
    "\n",
    "match = pattern.match(\"hot diggity dog barked at a scared cat\")\n",
    "\n",
    "if match:\n",
    "  print(match.group(0))\n",
    "  print(match.group(1))\n",
    "  print(match.group(2))"
   ]
  },
  {
   "cell_type": "markdown",
   "metadata": {
    "colab_type": "text",
    "id": "OTBUg028Rkt1"
   },
   "source": [
    "Grouping can get even richer. For example:\n",
    "\n",
    "- What happens when you have a group within another group?\n",
    "\n",
    "- Can a group be repeated?\n",
    "\n",
    "These are more intermediate-to-advanced applications of regular expressions that you might want to explore on your own."
   ]
  },
  {
   "cell_type": "markdown",
   "metadata": {
    "colab_type": "text",
    "id": "DabI2VnhSRfU"
   },
   "source": [
    "## Substitution\n",
    "\n",
    "So far we have been concerned with finding patterns in a string. Locating things is great, but sometimes you want to take action. A common action is substitution.\n",
    "\n",
    "Say that I want to replace every instance of 'cat' or 'mouse' in a string with 'whale'. To do that I can compile a pattern that looks for 'cat' or 'mouse' and use that pattern in the `re.sub` method."
   ]
  },
  {
   "cell_type": "code",
   "execution_count": null,
   "metadata": {
    "colab": {},
    "colab_type": "code",
    "id": "HrMNJxt7Sid2"
   },
   "outputs": [],
   "source": [
    "pattern = re.compile('(cat|mouse)')\n",
    "\n",
    "re.sub(pattern, 'whale', 'The dog is afraid of the mouse')"
   ]
  },
  {
   "cell_type": "markdown",
   "metadata": {
    "colab_type": "text",
    "id": "gInFcdH_S8yh"
   },
   "source": [
    "So far, we have compiled all of our regular expressions before using them. It turns out that many of the regular expression methods can accept a string and will compile that string for you.\n",
    "\n",
    "You might see something like the code below in practice:"
   ]
  },
  {
   "cell_type": "code",
   "execution_count": null,
   "metadata": {
    "colab": {},
    "colab_type": "code",
    "id": "9_DKxQqRSDxx"
   },
   "outputs": [],
   "source": [
    "re.sub('(cat|mouse)', 'whale', 'The dog is afraid of the mouse')"
   ]
  },
  {
   "cell_type": "markdown",
   "metadata": {
    "colab_type": "text",
    "id": "q_u_YXSlTcjl"
   },
   "source": [
    "`sub` is compiling the string \"(cat|mouse)\" into a pattern and then applying it to the input string."
   ]
  },
  {
   "cell_type": "markdown",
   "metadata": {
    "colab_type": "text",
    "id": "KNIjbwUeTtHU"
   },
   "source": [
    "## Raw Strings"
   ]
  },
  {
   "cell_type": "markdown",
   "metadata": {
    "colab_type": "text",
    "id": "sZXKicD_TqHw"
   },
   "source": [
    "While working with Python code that uses regular expressions, you might occasionally encounter a string that looks like `r'my string'` instead of the `'my string'` that you are accustomed to seeing.\n",
    "\n",
    "The `r` designation means that the string is a *raw* string. Let's look at some examples to see what this means."
   ]
  },
  {
   "cell_type": "code",
   "execution_count": null,
   "metadata": {
    "colab": {},
    "colab_type": "code",
    "id": "kx2fV2d5UNb9"
   },
   "outputs": [],
   "source": [
    "print('\\tHello')\n",
    "print(r'\\tHello')\n",
    "print('\\\\')\n",
    "print(r'\\\\')"
   ]
  },
  {
   "cell_type": "markdown",
   "metadata": {
    "colab_type": "text",
    "id": "F_X0xkm3UVS-"
   },
   "source": [
    "You'll notice that the regular string containing `\\t` printed a tab character. The raw string printed a literal `\\t`. Likewise the regular string printed `\\` while the raw string printed `\\\\`.\n",
    "\n",
    "When processing a string, Python looks for escape sequences like `\\t` (tab), `\\n` (newline), `\\\\` (backslash) and others to make your printed output more visually appealing.\n",
    "\n",
    "Raw strings turn off that translation. This is useful for regular expressions because the backslash is a common character in regular expressions. Translating backslashes to other characters would break the expression.\n",
    "\n",
    "Should you always use a raw string when creating a regular expression? Probably. Even if it isn't necessary now, the expression might grow over time, and it is helpful to have it in place as a safeguard."
   ]
  },
  {
   "cell_type": "markdown",
   "metadata": {
    "colab_type": "text",
    "id": "xtS1AJqmVm3V"
   },
   "source": [
    "# Exercises"
   ]
  },
  {
   "cell_type": "markdown",
   "metadata": {
    "colab_type": "text",
    "id": "Nafn1PdrVtUa"
   },
   "source": [
    "## Exercise 1: Starts With 'a'"
   ]
  },
  {
   "cell_type": "markdown",
   "metadata": {
    "colab_type": "text",
    "id": "XQ__Lg0qOe_V"
   },
   "source": [
    "Create a regular expression pattern object that matches strings starting with the lower-case letter 'a'. Apply it to the test data provided. Loop over each string of test data and print \"match\" or \"no match\" as a result of your expression."
   ]
  },
  {
   "cell_type": "markdown",
   "metadata": {
    "colab_type": "text",
    "id": "lTFGywybO2lf"
   },
   "source": [
    "### **Student Solution**"
   ]
  },
  {
   "cell_type": "code",
   "execution_count": null,
   "metadata": {
    "colab": {},
    "colab_type": "code",
    "id": "vZ2RGGupVsJu"
   },
   "outputs": [],
   "source": [
    "test_data = [\n",
    "  'apple',\n",
    "  'banana',\n",
    "  'grapefruit',\n",
    "  'apricot',\n",
    "  'orange'\n",
    "]\n",
    "\n",
    "# Create a pattern here\n",
    "\n",
    "for test in test_data:\n",
    "  pass # Your pattern match goes here "
   ]
  },
  {
   "cell_type": "markdown",
   "metadata": {
    "colab_type": "text",
    "id": "JHBNo0N4vnUZ"
   },
   "source": [
    "---"
   ]
  },
  {
   "cell_type": "markdown",
   "metadata": {
    "colab_type": "text",
    "id": "j0pZvUlCWeHI"
   },
   "source": [
    "## Exercise 2: Contains 'zoo' or 'ZOO'\n"
   ]
  },
  {
   "cell_type": "markdown",
   "metadata": {
    "colab_type": "text",
    "id": "KNVoaQ9iPsGM"
   },
   "source": [
    "Create a regular expression pattern object that matches strings containing 'zoo' or 'ZOO'. Apply it to the test data provided. Loop over each string of the test data and print \"match\" or \"no match\" as a result of your expression."
   ]
  },
  {
   "cell_type": "markdown",
   "metadata": {
    "colab_type": "text",
    "id": "k2mx2BV7P2Ja"
   },
   "source": [
    "### **Student Solution**"
   ]
  },
  {
   "cell_type": "code",
   "execution_count": null,
   "metadata": {
    "colab": {},
    "colab_type": "code",
    "id": "FG12_l_QXAt2"
   },
   "outputs": [],
   "source": [
    "test_data = [\n",
    "  'zoo',\n",
    "  'ZOO',\n",
    "  'bazooka',\n",
    "  'ZOOLANDER',\n",
    "  'kaZoo',\n",
    "  'ZooTopia',\n",
    "  'ZOOT Suit',\n",
    "]\n",
    "\n",
    "# Create a pattern here\n",
    "\n",
    "for test in test_data:\n",
    "  pass # Your pattern match goes here "
   ]
  },
  {
   "cell_type": "markdown",
   "metadata": {
    "colab_type": "text",
    "id": "G68Mxnmn7gQJ"
   },
   "source": [
    "---"
   ]
  },
  {
   "cell_type": "markdown",
   "metadata": {
    "colab_type": "text",
    "id": "vbEAALlWXeBd"
   },
   "source": [
    "## Exercise 3: Endings"
   ]
  },
  {
   "cell_type": "markdown",
   "metadata": {
    "colab_type": "text",
    "id": "Q3iXKaU8QBFm"
   },
   "source": [
    "Create a regular expression pattern object that finds words that end with 'ing', independent of case. Apply it to the test data provided. Loop over each string of the test data and print \"match\" or \"no match\" as a result of your expression."
   ]
  },
  {
   "cell_type": "markdown",
   "metadata": {
    "colab_type": "text",
    "id": "UzTR84hWQIwn"
   },
   "source": [
    "### **Student Solution**"
   ]
  },
  {
   "cell_type": "code",
   "execution_count": null,
   "metadata": {
    "colab": {},
    "colab_type": "code",
    "id": "y-WkcgvOX0Ab"
   },
   "outputs": [],
   "source": [
    "test_data = [\n",
    "  'sing',\n",
    "  'talking',\n",
    "  'SCREAMING',\n",
    "  'NeVeReNdInG',\n",
    "  'ingeron',\n",
    "]\n",
    "\n",
    "# Create a pattern here\n",
    "\n",
    "for test in test_data:\n",
    "  pass # Your pattern match goes here "
   ]
  },
  {
   "cell_type": "markdown",
   "metadata": {
    "colab_type": "text",
    "id": "HKr0xaWGv3tm"
   },
   "source": [
    "---"
   ]
  }
 ],
 "metadata": {
  "colab": {
   "collapsed_sections": [
    "ZPyQ91RzsyCV",
    "-V28jhoJPXPd",
    "8yilKP0HP47B",
    "iU8ubDjiP5ZG"
   ],
   "include_colab_link": true,
   "name": "Introduction to Regular Expressions",
   "private_outputs": true,
   "provenance": [],
   "toc_visible": true
  },
  "kernelspec": {
   "display_name": "Python 3",
   "name": "python3"
  }
 },
 "nbformat": 4,
 "nbformat_minor": 0
}

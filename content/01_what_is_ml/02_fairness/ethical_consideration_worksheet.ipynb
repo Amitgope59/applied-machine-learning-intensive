{
 "cells": [
  {
   "cell_type": "markdown",
   "metadata": {
    "colab_type": "text",
    "id": "view-in-github"
   },
   "source": [
    "<a href=\"https://colab.research.google.com/github/google/applied-machine-learning-intensive/blob/master/content/01_what_is_ml/02_fairness/Ethical_Consideration_Worksheet.ipynb\" target=\"_parent\"><img src=\"https://colab.research.google.com/assets/colab-badge.svg\" alt=\"Open In Colab\"/></a>"
   ]
  },
  {
   "cell_type": "markdown",
   "metadata": {
    "colab_type": "text",
    "id": "a0AtDY0yTCyL"
   },
   "source": [
    "####  Copyright 2020 Google LLC."
   ]
  },
  {
   "cell_type": "code",
   "execution_count": null,
   "metadata": {
    "colab": {},
    "colab_type": "code",
    "id": "AnY_CIZ_TFQT"
   },
   "outputs": [],
   "source": [
    "# Licensed under the Apache License, Version 2.0 (the \"License\");\n",
    "# you may not use this file except in compliance with the License.\n",
    "# You may obtain a copy of the License at\n",
    "#\n",
    "# https://www.apache.org/licenses/LICENSE-2.0\n",
    "#\n",
    "# Unless required by applicable law or agreed to in writing, software\n",
    "# distributed under the License is distributed on an \"AS IS\" BASIS,\n",
    "# WITHOUT WARRANTIES OR CONDITIONS OF ANY KIND, either express or implied.\n",
    "# See the License for the specific language governing permissions and\n",
    "# limitations under the License."
   ]
  },
  {
   "cell_type": "markdown",
   "metadata": {
    "colab_type": "text",
    "id": "oAsMJBj7SVRm"
   },
   "source": [
    "# Ethical Consideration Worksheet"
   ]
  },
  {
   "cell_type": "markdown",
   "metadata": {
    "colab_type": "text",
    "id": "hP6hOV5DSZzb"
   },
   "source": [
    "It is of the utmost importance to always think about ethical considerations within the context of the systems you are building. Before starting any machine learning and AI project, it is important to frame the project within these [guiding principles](https://www.blog.google/technology/ai/ai-principles/). In the following worksheet you will be asked to think deeply about your model and how it impacts and interacts with the world or how it could impact or interact with the world."
   ]
  },
  {
   "cell_type": "markdown",
   "metadata": {
    "colab_type": "text",
    "id": "YgUbTVHJSgMX"
   },
   "source": [
    "## Social Benefit"
   ]
  },
  {
   "cell_type": "markdown",
   "metadata": {
    "colab_type": "text",
    "id": "lSgC_3okSk7J"
   },
   "source": [
    "Write a narrative about who would benefit from your project. Will some person or group likely be positively impacted?"
   ]
  },
  {
   "cell_type": "markdown",
   "metadata": {
    "colab_type": "text",
    "id": "4sbciLB8Sp8N"
   },
   "source": [
    "**Student Response**"
   ]
  },
  {
   "cell_type": "markdown",
   "metadata": {
    "colab_type": "text",
    "id": "xO1k4VFwSlt1"
   },
   "source": [
    "> *Your narrative goes here*"
   ]
  },
  {
   "cell_type": "markdown",
   "metadata": {
    "colab_type": "text",
    "id": "7hCUJu5eTygI"
   },
   "source": [
    "---"
   ]
  },
  {
   "cell_type": "markdown",
   "metadata": {
    "colab_type": "text",
    "id": "HOiuR01TSxy0"
   },
   "source": [
    "## Bias"
   ]
  },
  {
   "cell_type": "markdown",
   "metadata": {
    "colab_type": "text",
    "id": "pSvDV5cZS0Aj"
   },
   "source": [
    "Bias can be found in many data sources and systems. Think about the inputs of your model. Is there any bias that might be codified or even amplified? Is your system capable of reducing that bias? Describe what bias might be present and how you would modify the dataset, model, or actions upon the model output to mitigate the bias."
   ]
  },
  {
   "cell_type": "markdown",
   "metadata": {
    "colab_type": "text",
    "id": "cctaXixHS1I7"
   },
   "source": [
    "**Student Response**"
   ]
  },
  {
   "cell_type": "markdown",
   "metadata": {
    "colab_type": "text",
    "id": "l0DdL1T6S5yp"
   },
   "source": [
    "> *Your narrative goes here*"
   ]
  },
  {
   "cell_type": "markdown",
   "metadata": {
    "colab_type": "text",
    "id": "6s9uJmhCT0Cn"
   },
   "source": [
    "---"
   ]
  },
  {
   "cell_type": "markdown",
   "metadata": {
    "colab_type": "text",
    "id": "vPPmyFCiTOx5"
   },
   "source": [
    "## Safety"
   ]
  },
  {
   "cell_type": "markdown",
   "metadata": {
    "colab_type": "text",
    "id": "2bsx1ZgzTRBz"
   },
   "source": [
    "Think about how your model might be used. Are there any safety concerns? If you are building a model for something like a self-driving vehicle, the safety concerns are relatively obvious. However, even models in more low-risk domains might cause harm in some situations. How might your model cause harm? How might you reduce that risk of harm?"
   ]
  },
  {
   "cell_type": "markdown",
   "metadata": {
    "colab_type": "text",
    "id": "iLqFJ2SNTSKi"
   },
   "source": [
    "**Student Response**"
   ]
  },
  {
   "cell_type": "markdown",
   "metadata": {
    "colab_type": "text",
    "id": "lvuv5rlgTUic"
   },
   "source": [
    "> *Your narrative goes here*"
   ]
  },
  {
   "cell_type": "markdown",
   "metadata": {
    "colab_type": "text",
    "id": "YZoY7qV5T1Yb"
   },
   "source": [
    "---"
   ]
  },
  {
   "cell_type": "markdown",
   "metadata": {
    "colab_type": "text",
    "id": "UKoDrbPNTWRj"
   },
   "source": [
    "## Accountability"
   ]
  },
  {
   "cell_type": "markdown",
   "metadata": {
    "colab_type": "text",
    "id": "BCIT0ge_TYiY"
   },
   "source": [
    "If someone questions the output of your model, how might you explain to them how the specific outcome was reached? If problems are identified with your model, how might you adjust your inputs, model, or actions to account for issues?"
   ]
  },
  {
   "cell_type": "markdown",
   "metadata": {
    "colab_type": "text",
    "id": "9H0aL-HETZjw"
   },
   "source": [
    "**Student Response**"
   ]
  },
  {
   "cell_type": "markdown",
   "metadata": {
    "colab_type": "text",
    "id": "xXnWfSn5Tbsj"
   },
   "source": [
    "> *Your narrative goes here*"
   ]
  },
  {
   "cell_type": "markdown",
   "metadata": {
    "colab_type": "text",
    "id": "Uav3El_0T2iL"
   },
   "source": [
    "---"
   ]
  },
  {
   "cell_type": "markdown",
   "metadata": {
    "colab_type": "text",
    "id": "uDKxc_EtTc9g"
   },
   "source": [
    "## Privacy"
   ]
  },
  {
   "cell_type": "markdown",
   "metadata": {
    "colab_type": "text",
    "id": "PyUbWTgVTfBI"
   },
   "source": [
    "User privacy and consent are very important. Users should have an understanding of how their data will be used and maintained. Is your model using any potentially sensitive data? Is there a chance that sensitive information about a user might be exposed in some way? Is the data you are using data users would expect to be shared or would have explicitly shared?"
   ]
  },
  {
   "cell_type": "markdown",
   "metadata": {
    "colab_type": "text",
    "id": "ojvQhxsgTgik"
   },
   "source": [
    "**Student Reponse**"
   ]
  },
  {
   "cell_type": "markdown",
   "metadata": {
    "colab_type": "text",
    "id": "PeLoyu29TjLU"
   },
   "source": [
    "> *Your narrative goes here*"
   ]
  },
  {
   "cell_type": "markdown",
   "metadata": {
    "colab_type": "text",
    "id": "_Jl5RTPUT4FD"
   },
   "source": [
    "---"
   ]
  },
  {
   "cell_type": "markdown",
   "metadata": {
    "colab_type": "text",
    "id": "XkIs2lOJTkiT"
   },
   "source": [
    "## Quality"
   ]
  },
  {
   "cell_type": "markdown",
   "metadata": {
    "colab_type": "text",
    "id": "2_Ro3p0UTmUO"
   },
   "source": [
    "Just because a model makes predictions doesn't mean those predictions are valid. Think about the inputs to your model and the intended usage. Can your model actually generalize well to the domain to which it will be applied? Do you have a plan to properly test and validate the model? Are you using proven techniques for your model and pipeline? Discuss how your model will adhere to solid scientific standards and quality controls."
   ]
  },
  {
   "cell_type": "markdown",
   "metadata": {
    "colab_type": "text",
    "id": "wI32Aa7xTnOV"
   },
   "source": [
    "**Student Response**"
   ]
  },
  {
   "cell_type": "markdown",
   "metadata": {
    "colab_type": "text",
    "id": "NTOMFKV3TpQ4"
   },
   "source": [
    "> *Your narrative goes here*"
   ]
  },
  {
   "cell_type": "markdown",
   "metadata": {
    "colab_type": "text",
    "id": "kKAEDR_cT6Cy"
   },
   "source": [
    "---"
   ]
  },
  {
   "cell_type": "markdown",
   "metadata": {
    "colab_type": "text",
    "id": "VD16Hr3_TrdX"
   },
   "source": [
    "## Principled"
   ]
  },
  {
   "cell_type": "markdown",
   "metadata": {
    "colab_type": "text",
    "id": "A17AVu6TTtz4"
   },
   "source": [
    "Every organization and individual has a unique moral compass. Does this model fit into your and your organization's mission? What objections might you expect to see from someone with a different perspective? How might you explain your reasoning?"
   ]
  },
  {
   "cell_type": "markdown",
   "metadata": {
    "colab_type": "text",
    "id": "cMcZRoXKTtsY"
   },
   "source": [
    "**Student Response**"
   ]
  },
  {
   "cell_type": "markdown",
   "metadata": {
    "colab_type": "text",
    "id": "cfr7OogETxSD"
   },
   "source": [
    "> *Your narrative goes here*"
   ]
  },
  {
   "cell_type": "markdown",
   "metadata": {
    "colab_type": "text",
    "id": "0e3ZrTq4T7TC"
   },
   "source": [
    "---"
   ]
  }
 ],
 "metadata": {
  "colab": {
   "authorship_tag": "ABX9TyN5nQFjrBnMPVtY/SYYwVRO",
   "collapsed_sections": [
    "a0AtDY0yTCyL"
   ],
   "include_colab_link": true,
   "name": "Ethical Consideration Worksheet",
   "provenance": []
  },
  "kernelspec": {
   "display_name": "Python 3",
   "name": "python3"
  }
 },
 "nbformat": 4,
 "nbformat_minor": 0
}
